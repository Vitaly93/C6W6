{
 "cells": [
  {
   "cell_type": "code",
   "execution_count": 1,
   "metadata": {},
   "outputs": [
    {
     "data": {
      "application/vnd.jupyter.widget-view+json": {
       "model_id": "44504da610084d0cb01f281e78f4c8bf",
       "version_major": 2,
       "version_minor": 0
      },
      "text/plain": [
       "VBox(children=(Button(description='Redraw', style=ButtonStyle()), FigureWidget({\n",
       "    'data': [{'mode': 'lines'…"
      ]
     },
     "metadata": {},
     "output_type": "display_data"
    }
   ],
   "source": [
    "import plotly.graph_objs as go\n",
    "import numpy as np\n",
    "from ipywidgets import widgets\n",
    "from IPython.display import display\n",
    "import random\n",
    "\n",
    "mybutton = widgets.Button(description=\"Redraw\")\n",
    "\n",
    "xs = np.linspace(start=0, stop=10, num=100)\n",
    "    \n",
    "fig = go.FigureWidget( layout=go.Layout() )\n",
    "\n",
    "# NB: function needs to be written in a way, that returns np.array for input np.array!\n",
    "# or - use np.vectorize, to apply it element-by-element\n",
    "def TestFunc(inval):\n",
    "    return inval+2*random.random()\n",
    "\n",
    "mytrace = fig.add_trace(go.Scatter(x=xs, y=np.vectorize(TestFunc)(xs),\n",
    "                    mode='lines',\n",
    "                    name='Test'))\n",
    "# print(repr(mytrace))\n",
    "\n",
    "def on_button_clicked(b):\n",
    "    mytrace.data[0].y = np.vectorize(TestFunc)(xs)\n",
    "\n",
    "mybutton.on_click(on_button_clicked)\n",
    "\n",
    "widgets.VBox([mybutton, fig])"
   ]
  }
 ],
 "metadata": {
  "kernelspec": {
   "display_name": "Python 3",
   "language": "python",
   "name": "python3"
  },
  "language_info": {
   "codemirror_mode": {
    "name": "ipython",
    "version": 3
   },
   "file_extension": ".py",
   "mimetype": "text/x-python",
   "name": "python",
   "nbconvert_exporter": "python",
   "pygments_lexer": "ipython3",
   "version": "3.6.7"
  }
 },
 "nbformat": 4,
 "nbformat_minor": 2
}
